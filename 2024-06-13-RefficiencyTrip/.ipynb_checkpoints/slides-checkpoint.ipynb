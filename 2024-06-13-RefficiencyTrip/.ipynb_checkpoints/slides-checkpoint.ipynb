{
 "cells": [
  {
   "cell_type": "raw",
   "id": "afeea9f3-ffc9-4499-b10c-7356541b5d4d",
   "metadata": {},
   "source": [
    "---\n",
    "title: \"The Problem Problem\"\n",
    "subtitle: \"Choosing useful research problems\"\n",
    "author: \"Scott Jeen\"\n",
    "format:\n",
    "    revealjs:\n",
    "        slide-number: true\n",
    "        transition: \"fade\"\n",
    "        smaller: true\n",
    "        scrollabe: true\n",
    "        width: 1250\n",
    "        chalkboard:\n",
    "            buttons: true\n",
    "        preview-links: auto\n",
    "        footer: <https://enjeeneer.io>\n",
    "port: 4321         # This sets the port number\n",
    "---"
   ]
  },
  {
   "cell_type": "markdown",
   "id": "19000eb2-406b-4fdf-9fc1-517d7a6e1e02",
   "metadata": {
    "tags": []
   },
   "source": [
    "# Agenda\n",
    "\n",
    "- What are problems?\n",
    "- Identifying problems\n",
    "    - *Moral* axioms, lemmas, and propositions\n",
    "    - Being the pareto best in the world\n",
    "- Checking the problem\n",
    "    - Balancing feasiblility and usefulness\n",
    "    - Baselines and oracles\n",
    "- Takeaways"
   ]
  },
  {
   "cell_type": "markdown",
   "id": "fc84968b-37d2-4b95-b063-c32e346f223f",
   "metadata": {},
   "source": [
    "# What are problems?"
   ]
  },
  {
   "cell_type": "markdown",
   "id": "1aec0918-c6e6-471b-979d-12aafc67bc0a",
   "metadata": {},
   "source": [
    "## What are problems?\n",
    "> \"A problem is a situation in which we experience conflicting ideas.\"\n",
    ">\n",
    "> David Deutsch\n",
    "\n",
    "::: {.notes}\n",
    "Let's start with a definition, here's the best I've found for what constitutes a problem. David Deautsch says a problem is a situation in which we experience conflicting ideas. In other words we have two or more explanations about how we might proceed, and its not initially clear how to choose between them. This is general; let's look at what this means in practice.\n",
    "\n",
    ":::"
   ]
  },
  {
   "cell_type": "markdown",
   "id": "e64906f8-958a-4ae4-8f4a-e4a89d1b02ee",
   "metadata": {},
   "source": [
    "## Open problems: this sudoku\n",
    "![](figures/sudoku-0.jpeg){width=30%}\n",
    "\n",
    "::: {.notes}\n",
    "Here's a problem: this unfinished sudoku. We need a '7' to go somewhere inside the top-middle box, but as it stands, the 7 could go in multiple places.\n",
    "\n",
    ":::\n"
   ]
  },
  {
   "cell_type": "markdown",
   "id": "4d890e67-b248-4d5c-a08d-ee9f73dbe30c",
   "metadata": {
    "tags": []
   },
   "source": [
    "## Open problems: this sudoku\n",
    ":::: {.columns}\n",
    "\n",
    "::: {.column width=\"45%\"}\n",
    "### Idea (a)\n",
    "\n",
    "![](figures/sudoku-1.jpeg)\n",
    ":::\n",
    "\n",
    "::: {.column width=\"45%\"}\n",
    "### Idea (b)\n",
    "\n",
    "![](figures/sudoku-2.jpeg)\n",
    ":::\n",
    "\n",
    "::::\n",
    "\n",
    "::: {.notes}\n",
    "We have multiple ideas about where the 7 could go. A first idea may be to suggest it goes in the top-middle cell in the box. A second idea may be to suggest it goes in the bottom-middle cell in the box. As it stands, we haven't constrained the problem enough to rule out one of these options.\n",
    "\n",
    ":::"
   ]
  },
  {
   "cell_type": "markdown",
   "id": "3cc623f4-4022-48b6-937a-fdffc051e749",
   "metadata": {},
   "source": [
    "## Open problems: the future UK electricity mix"
   ]
  },
  {
   "cell_type": "markdown",
   "id": "ded80fd7-c6cf-438a-a5b5-0cf55829444f",
   "metadata": {},
   "source": [
    "![](figures/uk-mix-0.png){width=60%}\n",
    "\n",
    "::: {.notes}\n",
    "Here's another open problem: what the future UK electricity mix should look like to balance, emissions, cost, reliability and security. This cross-section of the chart summarises the current make-up of the grid:\n",
    "\n",
    ":::"
   ]
  },
  {
   "cell_type": "markdown",
   "id": "d5b7182d-5e96-4491-a7ee-61fd637dcbbd",
   "metadata": {},
   "source": [
    "## Open problems: the future UK electricity mix\n",
    ":::: {.columns}\n",
    "\n",
    "::: {.column width=\"50%\"}\n",
    "### Idea (a)\n",
    "\n",
    "![](figures/uk-mix-1.png)\n",
    ":::\n",
    "\n",
    "::: {.column width=\"50%\"}\n",
    "### Idea (b)\n",
    "\n",
    "![](figures/uk-mix-2.png)\n",
    ":::\n",
    "\n",
    "::::\n",
    "\n",
    "::: {.notes}\n",
    "Here are two options from the National Grid's Future Energy Scenarios report about what it could look like. Idea a) decarbonises slower, and then makes up for it with more CCS in future decade. Idea b) decarbonises quicker and requires less future CCS, but is more costly. Of course, there are many more ways in which we could conifgure the future grid mix, and it not clear exactly how we should proceed.\n",
    "\n",
    ":::"
   ]
  },
  {
   "cell_type": "markdown",
   "id": "aca18a6f-75b4-49b5-a430-2eff8293a10c",
   "metadata": {},
   "source": [
    "## Open problems: a theory of everything\n",
    "\n",
    "![](figures/theory-of-everything.jpeg){width=40%}\n",
    "\n",
    "::: {.notes}\n",
    "Here's one more: a theory of everything; a unification of the four fundamental forces of physics: electromagnetism, the strong force, the weak force, and gravity. We have The Standard Model that predicts the behaviour of the first three; and general relativity for predicting gravitational effects.\n",
    ":::"
   ]
  },
  {
   "cell_type": "markdown",
   "id": "ddc2ffcf-0b96-47ef-bfab-99e279bd65f6",
   "metadata": {},
   "source": [
    "## Open problems: a theory of everything\n",
    "\n",
    ":::: {.columns}\n",
    "\n",
    "::: {.column width=\"50%\"}\n",
    "### Idea (a)\n",
    "\n",
    "![](figures/string-theory.webp)\n",
    ":::\n",
    "\n",
    "::: {.column width=\"50%\"}\n",
    "### Idea (b)\n",
    "\n",
    "![](figures/general_relativity.jpeg)\n",
    ":::\n",
    "\n",
    "::::\n",
    "\n",
    "::: {.notes}\n",
    "An resolution could be string theory (idea (a)), anothe could be something else.\n",
    "\n",
    "As these examples imply, solutions to some problems are more important than others. If you solve the sudoku that, at best, benefits you; if you come up with a theory of everything that changes humanity's trajectory.\n",
    "\n",
    ":::"
   ]
  },
  {
   "cell_type": "markdown",
   "id": "071fc4f8-94bf-40b5-8ad0-ad5a00b9b370",
   "metadata": {},
   "source": [
    "## Some solutions are better than others\n",
    "\n",
    "::: {.incremental}\n",
    "- To solve a problem we incur a *cost* in exchange for some *gain*  \n",
    "- Solutions where cost >= gain are **zero-sum games**\n",
    "- Solutions where gain > cost are **positive-sum games**\n",
    ":::\n",
    "\n",
    "::: {.notes}\n",
    "All that is to say: some solutions are better than others. Let's think about that more precisely. To solve a problem we incur a cost in exchange for some gain. Solutions where costs outweigh the gains are zero-sum games. Solutions where gains outweight the costs are positive-sum games. Let's look at some examples.\n",
    "\n",
    ":::"
   ]
  },
  {
   "cell_type": "markdown",
   "id": "1ab192af-0946-4d0f-9b31-bf3729d7101a",
   "metadata": {},
   "source": [
    "## Zero-sum games\n",
    "::: {.incremental}\n",
    "- Chess\n",
    "- War\n",
    "- PhD?\n",
    ":::\n",
    "\n",
    "::: {.notes}\n",
    "Okay some zero-sum games. Chess is one. In chess, every gain in the position of Player A is a loss in the position of Player B. And in general, a win for me delivers a proportional loss for you. Similarly, war is a zero-sum game. Unfortunately the losses incurred by both sides of a war (be it financial or human) far outstrip the perceived or real gains the winner realises. Finally, doing a PhD?\n",
    "\n",
    ":::"
   ]
  },
  {
   "cell_type": "markdown",
   "id": "41bc856d-99e8-45fb-a4fe-87a45ec24d0d",
   "metadata": {
    "jp-MarkdownHeadingCollapsed": true,
    "tags": []
   },
   "source": [
    "## Positive-sum games\n",
    "::: {.incremental}\n",
    "- Trade\n",
    "- Innovation/techology\n",
    "- Environmental conservation\n",
    ":::\n",
    "\n",
    "::: {.notes}\n",
    "Okay some positive-sum games. Trade is the obvious one. For many reasons countries produce goods at different costs from one another. Take, for example, the production of citrus fruits like oranges. It's cheaper to produce oranges in Spain than it is in the UK because the weather there is naturally more amendable to it than here. Equally its cheaper to produce potatatoes in the UK than in Spain for similar reasons. So if we trade potatoes to Spain in exchange for oranges then both countries get these items for *less* than we would have if we had produced them ourselves.\n",
    "\n",
    "Innovation is a positive-sum game. When an engine is made X% more fuel efficient, that reduces the fuel bill of everyone who owns that engine every time the engine is used in the future. When Apple issue a software update that fixes a bug on iPhones, this benefits everyone who owns an iphone.\n",
    "\n",
    "A final positive-sum game is environmental conservation. Mitigating climate change benefits billions of future humans.\n",
    ":::"
   ]
  },
  {
   "cell_type": "markdown",
   "id": "b54b9dd9-963d-4a2d-b95d-07ed8c4c7b9b",
   "metadata": {},
   "source": [
    "# The goal is to find problems where the solutions are maximally positive-sum\n",
    "\n",
    "::: notes\n",
    "That leads to the first key takeaway of this discussion: the goal should always be to find problems with solutions that maximally positive sum i.e. their returns to society far outweight the cost of solving them. Which leads us to the meat of this discussion.  \n",
    "\n",
    ":::"
   ]
  },
  {
   "cell_type": "markdown",
   "id": "dc783b00-3366-466e-8f46-5f8596dead05",
   "metadata": {},
   "source": [
    "# Identifying problems\n",
    "\n",
    "::: notes\n",
    "Okay let's talk about how to identify some of these problems. I'll talk about two methods for doing problem identification.\n",
    "\n",
    ":::"
   ]
  },
  {
   "cell_type": "markdown",
   "id": "13d30bb5-9a34-4ea0-9c04-338697591637",
   "metadata": {},
   "source": [
    "## *Moral* axioms, lemmas and propositions\n",
    "::: {.incremental}\n",
    "- **Moral axioms.** Establish a set of (moral) beliefs that you feel cannot be challenged. E.g. \n",
    "    - All else being equal, increasing one's happiness is good.\n",
    "    - All else being equal, increasing the average lifespan is good.\n",
    "    - All else being equal, increasing our understanding of the universe is good.\n",
    "- **Lemmas.** Published scientific truths you use as stepping stones to connect you to your axiom. E.g.\n",
    "    - Happiness is proportional to wealth until a saturation level  \n",
    "    - Climate change reduces average lifespans\n",
    "- **Propositions.** A problem that, if solved, provides another connection to your axiom.\n",
    "    - \n",
    "\n",
    ":::\n",
    "\n",
    "::: {.notes}\n",
    "The first uses what I call *moral* axioms, lemmas and propositions. I'm stealing, a slightly butchering, terms from mathematics here. An axiom in mathematics is a statement that does not need to be proven, it is assumed to be true without justification. A lemma, is a previously established proof that follows from the axiom that is used a stepping stone to get you to your proposition, which is some mathematical conjecture that you are about to prove to be true.\n",
    "\n",
    "Here we going to start with a *moral* axiom, which is a belief about the world that you feel cannot be challenged. Some examples include, \"increasing one's happiness is good\", \"increasing the average lifespan is good\", \"understanding the universe is good\". Then, we establish a serious of lemmas, which are published scientific truths you use as stepping stones to connect you to your axiom. Each lemma should try to get you as close as possible to maximising the axiom, or resolving the previous lemma. Eventually if you keep doing this you will run out of lemmas and you will arrive at a *problem* where there are conflicting ideas about which stepping stone comes next. You then make a proposition, which is your what you believe to be the best solution to the problem. And you prove your proposition with a paper.\n",
    "\n",
    "Let's look at an example.\n",
    "\n",
    ":::"
   ]
  },
  {
   "cell_type": "markdown",
   "id": "9fe78cad-331d-44d4-a866-0d1c25609c61",
   "metadata": {},
   "source": [
    "## *Moral* axioms, lemmas and propositions\n",
    "![](figures/axioms_1.svg)"
   ]
  },
  {
   "cell_type": "markdown",
   "id": "8eb53671-eb74-4864-b330-0688c44b36c5",
   "metadata": {},
   "source": [
    "## *Moral* axioms, lemmas and propositions\n",
    "![](figures/axioms_2.svg)"
   ]
  },
  {
   "cell_type": "markdown",
   "id": "1cf0813f-2dc7-4639-9739-841ea6b2944c",
   "metadata": {},
   "source": [
    "## *Moral* axioms, lemmas and propositions\n",
    "![](figures/axioms_3.svg)"
   ]
  },
  {
   "cell_type": "markdown",
   "id": "45ff8779-badb-41c8-b01f-7c898a590178",
   "metadata": {},
   "source": [
    "## *Moral* axioms, lemmas and propositions\n",
    "![](figures/axioms_4.svg)"
   ]
  },
  {
   "cell_type": "markdown",
   "id": "7729b463-489c-481f-a0c2-3eca9bdd2b59",
   "metadata": {},
   "source": [
    "## *Moral* axioms, lemmas and propositions\n",
    "![](figures/axioms_5.svg)"
   ]
  },
  {
   "cell_type": "markdown",
   "id": "9bb34937-3b4f-4ad1-86ad-82d9270924bc",
   "metadata": {},
   "source": [
    "## *Moral* axioms, lemmas and propositions\n",
    "![](figures/axioms_6.svg)"
   ]
  },
  {
   "cell_type": "markdown",
   "id": "97e80aee-27c7-4769-943e-83920721de79",
   "metadata": {},
   "source": [
    "## *Moral* axioms, lemmas and propositions\n",
    "![](figures/axioms_7.svg)"
   ]
  },
  {
   "cell_type": "markdown",
   "id": "02dc29b4-95d2-4f21-a7fc-f51c22e84ec3",
   "metadata": {},
   "source": [
    "## *Moral* axioms, lemmas and propositions\n",
    "![](figures/axioms_8.svg)"
   ]
  },
  {
   "cell_type": "markdown",
   "id": "e936488f-9ae3-477b-bd3d-a58b1a44ac61",
   "metadata": {},
   "source": [
    "## *Moral* axioms, lemmas and propositions\n",
    "![](figures/axioms_9.svg)"
   ]
  },
  {
   "cell_type": "markdown",
   "id": "ba4d1257-46de-4371-bb8c-d06d1815ae61",
   "metadata": {},
   "source": [
    "## *Moral* axioms, lemmas and propositions\n",
    "![](figures/axioms_10.svg)\n",
    "\n",
    "::: notes\n",
    "Once you prove a proposition, the effect chases all the way back up the tree and nudges your moral axiom.\n",
    "\n",
    ":::"
   ]
  },
  {
   "cell_type": "markdown",
   "id": "a8e6f085-7534-4304-9f85-79af112b03c6",
   "metadata": {},
   "source": [
    "## *Moral* axioms, lemmas and propositions: actions\n",
    "\n",
    "::: {.incremental}\n",
    "1. Think deeply about your moral axioms.\n",
    "2. Read widely to establish the chain of science that maximally affects your moral axiom.\n",
    "3. Establish where the chain of science ends, and propose a way for extending the chain i.e. a problem to solve.\n",
    "\n",
    ":::\n",
    "\n",
    "::: notes\n",
    "So what are the action items from this framework. \n",
    "\n",
    ":::"
   ]
  },
  {
   "cell_type": "markdown",
   "id": "33ac975a-31cd-4e98-aaac-a68693e752eb",
   "metadata": {},
   "source": [
    "## Being the (pareto) best in the world\n",
    "\n",
    "::: {.incremental}\n",
    "- If you are the best in the world at something, you are uniquely positioned to see its problems and solve them.\n",
    "- Some examples:\n",
    "    - Usain Bolt & sprinting\n",
    "    - Beyonce & singing\n",
    "    - Refficiency & sankey diagrams\n",
    "- It is *hard* to be the best in the world at something.\n",
    "- But, it is *easy* to be the best in the world at *several things simultaneously*.   \n",
    "\n",
    ":::\n",
    "\n",
    "::: aside\n",
    "[Wentsworth, J. \"Being the (pareto) best in the world\" (2019)](https://www.lesswrong.com/posts/XvN2QQpKTuEzgkZHY/being-the-pareto-best-in-the-world)\n",
    ":::\n",
    "\n",
    "::: notes\n",
    "Okay here's a second method for thinking about problems. It's called being the pareto best in the world, and the core idea comes from this guy John Wentsworth's blog post.\n",
    "\n",
    ":::"
   ]
  },
  {
   "cell_type": "markdown",
   "id": "94803c9a-219b-459d-a16e-9ee501fb32bb",
   "metadata": {},
   "source": [
    "## Being the (pareto) best in the world\n",
    "![](figures/pareto-best.png)\n",
    "\n",
    "::: aside\n",
    "[Wentsworth, J. \"Being the (pareto) best in the world\" (2019)](https://www.lesswrong.com/posts/XvN2QQpKTuEzgkZHY/being-the-pareto-best-in-the-world)\n",
    ":::\n",
    "\n",
    "::: notes\n",
    "Here's a diagram that plots researchers w.r.t. their statistical skill and their gerantology knowledge (the study of ageing). If you sit at the far end of either access you are the best in the world at that skill--so we have this guy Ed Jaynes as the GOAT bayesian statistician, and at the top of the y-axis is the GOAT gerantologist. And then we have Alice, Bob, and Carol are all some combination of the two. Alice is better at gerontology, and less good at stats, and bob is good at stats and less good at gerantology. Crucially though, they each have a unique position on the chart, and that creates areas that require the set of skills only one them has. The better you are at a combined set of skills, the more problems are accessible and solvable by you, and you alone. Another way to think about this is that you have a finite set of tokens you can spend on improving yourself (in practice this is like time). Let's say you have 100 tokens to spend on yourself, the question is what skills should you exchange your tokens for to maximally increase the number of problems that are available to you alone. If you are already really good at gerantology, then a small amount of tokens dedicated to bayesian stats could make a hugh new set of problems accessible to you.\n",
    "\n",
    ":::"
   ]
  },
  {
   "cell_type": "markdown",
   "id": "52cf35cd-5dd6-454d-99ad-5d3b842042af",
   "metadata": {},
   "source": [
    "## Being the (pareto) best in the world: actions\n",
    "\n",
    "::: {.incremental}\n",
    "1. Establish what you are pareto best at today\n",
    "2. Use this knowledge to think about the problems that are uniquely accessible to you\n",
    "3. Think about how you can spend your learning tokens to increase the space of problems that are uniquely accessible to you\n",
    "\n",
    ":::"
   ]
  },
  {
   "cell_type": "markdown",
   "id": "9de89cc9-9c53-4074-9381-80fafb0ad3c1",
   "metadata": {},
   "source": [
    "# Checking the problem"
   ]
  },
  {
   "cell_type": "markdown",
   "id": "cc384ef9-67a3-4dfe-9d52-5f3fcdbf645e",
   "metadata": {},
   "source": [
    "## Balancing feasiblility and usefulness\n",
    "\n",
    "![](figures/alon-choosing-problems.png){width=90%}\n",
    "\n",
    ":::aside\n",
    "Alon, Uri. \"How to choose a good scientific problem.\" Molecular cell 35.6 (2009): 726-728.\n",
    ":::"
   ]
  },
  {
   "cell_type": "markdown",
   "id": "07aa6057-4d9e-4e52-b4de-517f280d095c",
   "metadata": {
    "tags": []
   },
   "source": [
    "## Baselines and oracles: is your problem really a problem?\n",
    "\n",
    "::: {.incremental}\n",
    "- Sometimes you can trick yourself into thinking a problem exists when it doesn't. A way to ensure this doesn't happen is to use **Baselines** and **Oracles**\n",
    "- A **Baseline** is the current best guess at a solution to the problem\n",
    "- An **Oracle** is a solution to the problem that relaxes some assumptions/constraints\n",
    "- For a problem to exist: **there must be a gap between the baseline and the oracle**\n",
    ":::\n",
    "\n",
    "::: aside\n",
    "Nachum, Ofir. [\"Baselines and Oracles.\" (2022)](https://ofirnachum.github.io/posts/baselines-and-oracles/)\n",
    ":::"
   ]
  },
  {
   "cell_type": "markdown",
   "id": "1b8b9aae-02dc-465e-bc5b-da27c20ebd22",
   "metadata": {},
   "source": [
    "## Baselines and oracles: is your problem really a problem?\n",
    "\n",
    "| **Problem**                                       | **Baseline**             | **Oracle**              |\n",
    "| --------------------------------------------------------- | -------------------------------- | ------------------------------- |\n",
    "| Solar PV conversion efficiency ☀️ | 31.25% (Perovskite Tandem Cells) | 33.7% (Shockley-Queisser Limit) |\n",
    "| Wind conversion efficiency 💨  | ~30% (GE Haliade-X)              | 59.3% (Betz Limit)              |\n",
    "| Building intelligent machines 🤖   | GPT-4              | Humans              |\n",
    "| Unifying the four fundamental forces 🔎          | The Standard Model               | The Universe                    |\n",
    "\n",
    "::: aside\n",
    "Nachum, Ofir. [\"Baselines and Oracles.\" (2022)](https://ofirnachum.github.io/posts/baselines-and-oracles/)\n",
    ":::\n",
    "\n",
    ":::notes\n",
    "Shockley-queisser limit is the max proportion of energy that can be extracted from a photon with a p-n junction solar cell.\n",
    "Betz limit is the theoretical maximum proportion of energy that can be extracting from a column of fluid.\n",
    ":::"
   ]
  },
  {
   "cell_type": "markdown",
   "id": "68472211-a8bb-4545-a3ed-448ae8129dac",
   "metadata": {},
   "source": [
    "## Baselines and oracles: is your problem really a problem?\n",
    "\n",
    "![](figures/baselines-oracles-0.png){width=50%}"
   ]
  },
  {
   "cell_type": "markdown",
   "id": "179d0ef5-fe7a-4a59-b8be-f1ae6bd1aede",
   "metadata": {},
   "source": [
    "## Baselines and oracles: is your problem really a problem?\n",
    "\n",
    "![](figures/baselines-oracles-1.png){width=50%}"
   ]
  },
  {
   "cell_type": "markdown",
   "id": "16f4af98-e231-4447-8587-5e30be66acc7",
   "metadata": {},
   "source": [
    "## Baselines and oracles: is your problem really a problem?\n",
    "\n",
    "![](figures/baselines-oracles-2.png){width=50%}"
   ]
  },
  {
   "cell_type": "markdown",
   "id": "b1cbf799-c3c5-40d8-b23a-7df86736ed9b",
   "metadata": {},
   "source": [
    "## Baselines and oracles: is your problem really a problem?\n",
    "\n",
    "![](figures/baselines-oracles-3.png){width=50%}"
   ]
  },
  {
   "cell_type": "markdown",
   "id": "5a5cafbe-72e5-437a-8d60-08017d6b196c",
   "metadata": {},
   "source": [
    "## Baselines and oracles: is your problem really a problem?\n",
    "\n",
    "A theory:\n",
    "\n",
    "- Progress in the hard sciences is fast because physics provides oracles\n",
    "- Progress in the social sciences is slow because defining oracles is difficult (sometimes impossible)\n"
   ]
  },
  {
   "cell_type": "markdown",
   "id": "2a7294a7-5e89-4aab-888c-757650c24c61",
   "metadata": {},
   "source": [
    "## Checking the problem: actions\n",
    "\n",
    "::: {.incremental}\n",
    "- Think about the problems position on the useful/feasible axis\n",
    "- Establish a baseline and an oracle for your problem \n",
    "    - If there is no gap between the two, your problem doesn't exist \n",
    "    - The bigger the gap between the two, the better\n",
    ":::"
   ]
  },
  {
   "cell_type": "markdown",
   "id": "e6f6642d-a445-4478-aa6f-9f22a87ef6c0",
   "metadata": {},
   "source": [
    "# Final Takeaways\n",
    "\n",
    "1. We want to work on problems that are maximally positive-sum i.e. their returns to society are much higher than the costs\n",
    "2. Identifying these problems is hard. Some options:\n",
    "    1. Moral axioms, lemmas and propositions\n",
    "    2. Being the (pareto) best in the world\n",
    "3. Once you've selected a problem to work on, make sure:\n",
    "    1. It is both feasible and useful\n",
    "    2. The problem exists (using baselines and oracles)"
   ]
  },
  {
   "cell_type": "markdown",
   "id": "1e0a4f79-e526-41a2-99e6-90335f2922fb",
   "metadata": {},
   "source": [
    "# Closing remarks\n"
   ]
  },
  {
   "cell_type": "markdown",
   "id": "4885d9da-5de2-4fc6-b697-2be5cdf3b9e8",
   "metadata": {},
   "source": [
    "## Progress is incremental\n",
    "\n",
    "\n",
    "::: {.incremental}\n",
    "- \"Quantum leaps\" do not happen^[at least not in the 21st century]\n",
    "- ChatGPT, (arguably) the most surprising technological advance of the last 15 years, was a combination small advances made over many years  \n",
    "- Don't be intimidated by the \"amount of progress\" being made elsewhere\n",
    ":::"
   ]
  },
  {
   "cell_type": "markdown",
   "id": "9b4fd2b1-6098-4c19-82ed-9233a15da46b",
   "metadata": {},
   "source": [
    "## Be courageous\n",
    "\n",
    "> \"One of the characteristics of successful scientists is having courage. Once you get your courage up and believe that you can do important problems, then you can. If you think you can't, almost surely you are not going to.\"\n",
    ">\n",
    "> Richard Hamming, You and Your Research (1986)"
   ]
  },
  {
   "cell_type": "markdown",
   "id": "a6685b28-6dfa-41af-9031-c2691c71f56d",
   "metadata": {},
   "source": [
    "# Thanks!"
   ]
  }
 ],
 "metadata": {
  "kernelspec": {
   "display_name": "Python 3 (ipykernel)",
   "language": "python",
   "name": "python3"
  },
  "language_info": {
   "codemirror_mode": {
    "name": "ipython",
    "version": 3
   },
   "file_extension": ".py",
   "mimetype": "text/x-python",
   "name": "python",
   "nbconvert_exporter": "python",
   "pygments_lexer": "ipython3",
   "version": "3.9.7"
  }
 },
 "nbformat": 4,
 "nbformat_minor": 5
}
