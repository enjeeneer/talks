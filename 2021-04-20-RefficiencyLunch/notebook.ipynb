{
 "cells": [
  {
   "cell_type": "markdown",
   "metadata": {
    "slideshow": {
     "slide_type": "slide"
    }
   },
   "source": [
    "# Sport, attention-spans, and degrowth\n",
    "\n",
    "## Refficiency Lunch\n",
    "\n",
    "### 20/04/2021"
   ]
  },
  {
   "cell_type": "markdown",
   "metadata": {
    "slideshow": {
     "slide_type": "slide"
    }
   },
   "source": [
    "## Golf\n",
    "\n",
    "<img class=\"\" src=\"images/bryson_1.png\" style=\"width:35%\">\n",
    "<img class=\"\" src=\"images/bryson_2.png\" style=\"width:20%\">"
   ]
  },
  {
   "cell_type": "markdown",
   "metadata": {
    "slideshow": {
     "slide_type": "slide"
    }
   },
   "source": [
    "## Golf\n",
    "\n",
    "<img class=\"\" src=\"images/bayhill_6th.png\" style=\"width:50%\">"
   ]
  },
  {
   "cell_type": "markdown",
   "metadata": {
    "slideshow": {
     "slide_type": "skip"
    }
   },
   "source": [
    "Not inevitable, many players have tried and failed in the past to put on distance. This has been enabled by technological innovation that forgives bad swings and mistrikes. In the past your margin of error when swinging like this would be minute, now DeChambeau can swing like this without fear of losing accuracy\n",
    "."
   ]
  },
  {
   "cell_type": "code",
   "execution_count": 11,
   "metadata": {
    "slideshow": {
     "slide_type": "slide"
    }
   },
   "outputs": [
    {
     "data": {
      "image/jpeg": "[encoded data removed]",
      "text/html": [
       "\n",
       "        <iframe\n",
       "            width=\"1300\"\n",
       "            height=\"700\"\n",
       "            src=\"https://www.youtube.com/embed/G1kFhGapsto\"\n",
       "            frameborder=\"0\"\n",
       "            allowfullscreen\n",
       "        ></iframe>\n",
       "        "
      ],
      "text/plain": [
       "<IPython.lib.display.YouTubeVideo at 0x10cb41f50>"
      ]
     },
     "execution_count": 11,
     "metadata": {},
     "output_type": "execute_result"
    }
   ],
   "source": [
    "from IPython.display import YouTubeVideo\n",
    "\n",
    "YouTubeVideo('G1kFhGapsto', width=1300, height=700)"
   ]
  },
  {
   "cell_type": "markdown",
   "metadata": {
    "slideshow": {
     "slide_type": "slide"
    }
   },
   "source": [
    "## Two Problems\n",
    "**1. Logistical**\n",
    "- Finite world\n",
    "\n",
    "**2. (somewhat) Philosophical**\n",
    "- Accuracy-distance trade-off\n",
    "- Loss of artistry"
   ]
  },
  {
   "cell_type": "markdown",
   "metadata": {
    "slideshow": {
     "slide_type": "skip"
    }
   },
   "source": [
    "To further clarify the logistical problems, here's a photo of the expansion of the 5th at Augusta National Golf Club, the site of the most famous golf tournament each year–The Masters. To accomodate the longer drives, the tournament organisers needed to move the tee backward to make the hole longer and keep the bunkers in the middle of the fairway relevent. They had run out of space on the property so instead had to buy a plot of land across a main road for several million dollars and then redirect the road around the plot of land."
   ]
  },
  {
   "cell_type": "markdown",
   "metadata": {
    "slideshow": {
     "slide_type": "slide"
    }
   },
   "source": [
    "## Logistical Problems\n",
    "\n",
    "<img class=\"\" src=\"images/augusta_5th.png\" style=\"width:50%\">"
   ]
  },
  {
   "cell_type": "markdown",
   "metadata": {
    "slideshow": {
     "slide_type": "slide"
    }
   },
   "source": [
    "## Two Problems\n",
    "**1. Logistical**\n",
    "- Finite world\n",
    "\n",
    "**2. (somewhat) Philosophical**\n",
    "- Accuracy-distance trade-off\n",
    "- Loss of artistry"
   ]
  },
  {
   "cell_type": "markdown",
   "metadata": {
    "slideshow": {
     "slide_type": "skip"
    }
   },
   "source": [
    "So you would think to stop this lunacy the governing bodies would take action to mitigate these issues, but they are hesistant. Their hesitations are fuelled by money of course, both by equipment manufacturers who lobby them becuase they want to continue to sell their high-performing equipment, but they also fear reduced viewership if they reduce the distance the pros hit the ball.\n",
    "\n",
    "Other sports are doing the same, including football, rowing and american football."
   ]
  },
  {
   "cell_type": "markdown",
   "metadata": {
    "slideshow": {
     "slide_type": "slide"
    }
   },
   "source": [
    "## Attention-spans\n",
    "- Equipment manaufacturers and TV execs hesitant to address issues\n",
    "- Fans *want* to see long drives\n",
    "- Fans will switch channels if the #content isn't exciting\n",
    "\n",
    "### Other sports\n",
    "- Premier league football clubs piping music into stadia after goals\n",
    "- Rowers in the boat race\n",
    "- Superbowl half time show\n",
    "\n",
    "**Are the TV Execs correct?**"
   ]
  },
  {
   "cell_type": "markdown",
   "metadata": {
    "slideshow": {
     "slide_type": "skip"
    }
   },
   "source": [
    "I thought I would do a bit of digging and find out. Here's the Superbowl's TV ratings from 1967 - 2019. Despite efforts to make the fixture more accessible and exciting, the same proportion of TV owners watch the Superbowl today as in 1967 - 75%."
   ]
  },
  {
   "cell_type": "markdown",
   "metadata": {
    "slideshow": {
     "slide_type": "slide"
    }
   },
   "source": [
    "## Superbowl Popularity\n",
    "<img class=\"\" src=\"images/superbowl.png\" style=\"width:75%\">"
   ]
  },
  {
   "cell_type": "markdown",
   "metadata": {
    "slideshow": {
     "slide_type": "skip"
    }
   },
   "source": [
    "So if it isn't the flashy fireworks and halftime shows, what is it that we are so drawn to with sport? I would argue it the long, rich narratives that we get embroiled in. These narratives happen on different timescales, from seasons (as is the case in Formula 1) to decades (as is the case with premier league football teams who have been writing their stories for 100 years). \n",
    "\n",
    "It's the characters, who can be villians or heroes. We find both equally entertaining. People like David Warner the Australian batsmen, or Rory McIlory the Northern Irish golfer.\n",
    "\n",
    "And finally it's the honesty of the competition. Knowing that what you are seeing, although commercialised is real and true. If it's a boring race, it's a boring race, if it's a boring game, it's a boring game. But this honesty makes the highs all the more exciting because they are rare, and real."
   ]
  },
  {
   "cell_type": "markdown",
   "metadata": {
    "slideshow": {
     "slide_type": "slide"
    }
   },
   "source": [
    "## Real Stories, not Instagram Stories\n",
    "Why do we love sport?\n",
    "- Long, rich narratives: seasons to decades\n",
    "- Characters: villains and heroes\n",
    "- Honest competition"
   ]
  },
  {
   "cell_type": "markdown",
   "metadata": {
    "slideshow": {
     "slide_type": "skip"
    }
   },
   "source": [
    "And this brings me to the topic of the European Super League in football. I wrote the blog last week with no knowledge of this idea, and then here it came, served on a plate. \n",
    "\n",
    "You've probably seen this all over the news the last couple of days, but I'll run you through briefly what is going on. \n",
    "\n",
    "12 of the so-called biggest clubs are going to setup their own european league. Thier justification is digruntelment over TV renvenue that they feel they are sharing unfairly with 'smaller clubs'. For example, Barcelona and Real Madrid think fans only tune into the Spanish league to watch them, yet the TV revenue is shared amongst all clubs in the league–not equally, by the way.\n",
    "\n",
    "It's a closed shop, these are the 12 teams selected, there will be no promotion or relegation. You will see the 'best' teams play each other every week in a manufactured, sterile league. \n",
    "\n",
    "They'll likely sell the rights to Amazon or Netflix for the £6bn a year valuation."
   ]
  },
  {
   "cell_type": "markdown",
   "metadata": {
    "slideshow": {
     "slide_type": "slide"
    }
   },
   "source": [
    "## Football: The European Super League\n",
    "- 12 'biggest' clubs in Europe to create their own league\n",
    "- Disgruntlement about TV revenue they share with 'smaller' clubs\n",
    "- Closed shop. No competition, monopolise the #content\n",
    "- Sell to Netflix/Amazon Prime for £6bn a year.\n"
   ]
  },
  {
   "cell_type": "markdown",
   "metadata": {
    "slideshow": {
     "slide_type": "skip"
    }
   },
   "source": [
    "This idea would ruin football in the countries where these clubs are situated. So what has the reaction been?"
   ]
  },
  {
   "cell_type": "markdown",
   "metadata": {
    "slideshow": {
     "slide_type": "slide"
    }
   },
   "source": [
    "## Reaction:\n",
    "- Domestic and European leagues to ban clubs\n",
    "- International teams to ban players at these clubs\n",
    "- Political leaders condemning and looking to legislate in opposition."
   ]
  },
  {
   "cell_type": "markdown",
   "metadata": {
    "slideshow": {
     "slide_type": "slide"
    }
   },
   "source": [
    "## Two Thoughts\n",
    "- **\"If I have seen further it is by standing on the shoulders of giants.\"** The giants are: football fans, communities, and (a select few) football players, football managers, executives; \n",
    "- Suffocating Data Analytics"
   ]
  },
  {
   "cell_type": "markdown",
   "metadata": {
    "slideshow": {
     "slide_type": "slide"
    }
   },
   "source": [
    "## Golf and Climate Change\n",
    "### Parallels\n",
    "- Clamour for growth that is environmentally detrimental\n",
    "- Rejection of the facts\n",
    "- Misunderstanding what people truly value\n",
    "\n",
    "### Goal\n",
    "Maximise happiness; minimise environmental impact\n",
    "\n",
    "### Solutions?"
   ]
  },
  {
   "cell_type": "markdown",
   "metadata": {
    "slideshow": {
     "slide_type": "slide"
    }
   },
   "source": [
    "## Not Economic Growth\n",
    "- Human well-being plateaus beyond $30,000/capita.\n",
    "\n",
    "Even if it didn't:\n",
    "- Global energy use has to decrease from 400EJ to 240EJ by 2050 (Grubler et al (2018)).\n",
    "- Efficiency improvements alone will not suffice, energy use must reduce in absolute terms.\n",
    "\n"
   ]
  },
  {
   "cell_type": "markdown",
   "metadata": {
    "slideshow": {
     "slide_type": "slide"
    }
   },
   "source": [
    "## Growth in well-being maximisers?\n",
    "- Laughing with friends\n",
    "- Perfecting skills\n",
    "- Exercising our creativity\n",
    "- Connecting religiously\n",
    "- Exploring the outdoors\n",
    "- Loving others and being loved by others\n",
    "\n",
    "**None require growth; all come at low or no environmental cost**"
   ]
  },
  {
   "cell_type": "markdown",
   "metadata": {
    "slideshow": {
     "slide_type": "slide"
    }
   },
   "source": [
    "# Thanks!"
   ]
  }
 ],
 "metadata": {
  "celltoolbar": "Slideshow",
  "kernelspec": {
   "display_name": "Python 3",
   "language": "python",
   "name": "python3"
  },
  "language_info": {
   "codemirror_mode": {
    "name": "ipython",
    "version": 3
   },
   "file_extension": ".py",
   "mimetype": "text/x-python",
   "name": "python",
   "nbconvert_exporter": "python",
   "pygments_lexer": "ipython3",
   "version": "3.7.9"
  }
 },
 "nbformat": 4,
 "nbformat_minor": 4
}
