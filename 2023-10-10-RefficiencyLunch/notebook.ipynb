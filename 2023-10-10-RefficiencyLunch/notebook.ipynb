{
 "cells": [
  {
   "cell_type": "markdown",
   "id": "976aea77",
   "metadata": {
    "slideshow": {
     "slide_type": "slide"
    }
   },
   "source": [
    "# Conservative World Models\n",
    "\n",
    "### Scott Jeen, Tom Bewley & Jonathan Cullen\n",
    "\n",
    "### Refficiency Lunch Seminar, 10th October 2023"
   ]
  },
  {
   "cell_type": "markdown",
   "id": "949f043a",
   "metadata": {
    "slideshow": {
     "slide_type": "slide"
    }
   },
   "source": [
    "# Motivation\n",
    "\n",
    "### Zero-shot RL"
   ]
  },
  {
   "cell_type": "markdown",
   "id": "ebc956e9",
   "metadata": {
    "slideshow": {
     "slide_type": "slide"
    }
   },
   "source": [
    "# Setup"
   ]
  },
  {
   "cell_type": "markdown",
   "id": "f45d895a",
   "metadata": {
    "slideshow": {
     "slide_type": "subslide"
    }
   },
   "source": [
    "<img class=\"\" src=\"https://github.com/enjeeneer/talks/blob/main/2023-10-10-RefficiencyLunch/images/vcfb-intuition-1.png?raw=true\" style=\"width:30%\">"
   ]
  },
  {
   "cell_type": "markdown",
   "id": "3c7065ec",
   "metadata": {
    "slideshow": {
     "slide_type": "subslide"
    }
   },
   "source": [
    "<img class=\"\" src=\"https://github.com/enjeeneer/talks/blob/main/2023-10-10-RefficiencyLunch/images/vcfb-intuition-2.png?raw=true\" style=\"width:30%\">"
   ]
  },
  {
   "cell_type": "markdown",
   "id": "18e820b3",
   "metadata": {
    "slideshow": {
     "slide_type": "subslide"
    }
   },
   "source": [
    "<img class=\"\" src=\"https://github.com/enjeeneer/talks/blob/main/2023-10-10-RefficiencyLunch/images/overestimates.png?raw=true\" style=\"width:70%\">"
   ]
  },
  {
   "cell_type": "markdown",
   "id": "d2dbdf38",
   "metadata": {
    "slideshow": {
     "slide_type": "subslide"
    }
   },
   "source": [
    "<img class=\"\" src=\"https://github.com/enjeeneer/talks/blob/main/2023-10-10-RefficiencyLunch/images/vcfb-intuition-3.png?raw=true\" style=\"width:30%\">"
   ]
  },
  {
   "cell_type": "markdown",
   "id": "7151a9ad",
   "metadata": {
    "slideshow": {
     "slide_type": "slide"
    }
   },
   "source": [
    "# A Didactic Example"
   ]
  },
  {
   "cell_type": "markdown",
   "id": "c194843c",
   "metadata": {
    "slideshow": {
     "slide_type": "subslide"
    }
   },
   "source": [
    "<img class=\"\" src=\"https://github.com/enjeeneer/talks/blob/main/2023-10-10-RefficiencyLunch/images/didactic-1.png?raw=true\" style=\"width:70%\">"
   ]
  },
  {
   "cell_type": "markdown",
   "id": "9e2deb24",
   "metadata": {
    "slideshow": {
     "slide_type": "subslide"
    }
   },
   "source": [
    "<img class=\"\" src=\"https://github.com/enjeeneer/talks/blob/main/2023-10-10-RefficiencyLunch/images/didactic-2.png?raw=true\" style=\"width:70%\">"
   ]
  },
  {
   "cell_type": "markdown",
   "id": "16b429c1",
   "metadata": {
    "slideshow": {
     "slide_type": "subslide"
    }
   },
   "source": [
    "<img class=\"\" src=\"https://github.com/enjeeneer/talks/blob/main/2023-10-10-RefficiencyLunch/images/didactic-3.png?raw=true\" style=\"width:70%\">"
   ]
  },
  {
   "cell_type": "markdown",
   "id": "b650fd88",
   "metadata": {
    "slideshow": {
     "slide_type": "slide"
    }
   },
   "source": [
    "# Experiments"
   ]
  },
  {
   "cell_type": "markdown",
   "id": "291f2121",
   "metadata": {
    "slideshow": {
     "slide_type": "subslide"
    }
   },
   "source": [
    "Table 1: **Experimental domain summary.**\n",
    "\n",
    "| **Domain** | **Dimensionality**   | **Type**         | **Reward**      | \n",
    "| ---------- | ---------- | -------------- | -------------- | \n",
    "| Walker     | <span style=\"color:green\">Low</span>  | Locomotion  | <span style=\"color:green\">Dense</span>  | \n",
    "| Quadruped  | <span style=\"color:red\">High</span>  | Locomotion  | <span style=\"color:green\">Dense</span>\n",
    "| Maze       | <span style=\"color:green\">Low</span>  | Goal-reaching   | <span style=\"color:red\">Sparse</span>  | \n",
    "| Jaco       | <span style=\"color:red\">High</span>  | Goal-reaching     | <span style=\"color:red\">Sparse</span>     | "
   ]
  },
  {
   "cell_type": "markdown",
   "id": "8930c93f",
   "metadata": {
    "slideshow": {
     "slide_type": "subslide"
    }
   },
   "source": [
    "<img class=\"\" src=\"https://github.com/enjeeneer/talks/blob/main/2023-10-10-RefficiencyLunch/images/dataset-heatmap.png?raw=true\" style=\"width:70%\">"
   ]
  },
  {
   "cell_type": "markdown",
   "id": "8ae67555",
   "metadata": {
    "slideshow": {
     "slide_type": "subslide"
    }
   },
   "source": [
    "<img class=\"\" src=\"https://github.com/enjeeneer/talks/blob/main/2023-10-10-RefficiencyLunch/images/performance-profiles-subplot.png?raw=true\" style=\"width:70%\">"
   ]
  },
  {
   "cell_type": "markdown",
   "id": "f8e169d0",
   "metadata": {
    "slideshow": {
     "slide_type": "subslide"
    }
   },
   "source": [
    "Table 1: **Performance on full RND dataset**.\n",
    "\n",
    "| **Domain** | **Task**   | **FB**         | **VC-FB**      | **MC-FB**      |\n",
    "| ---------- | ---------- | -------------- | -------------- | -------------- |\n",
    "| Walker     | all tasks  | 639 (616–661)  | 659 (647–670)  | 651 (632–671)  |\n",
    "| Quadruped  | all tasks  | 656 (638–674)  | 579 (522–635)  | 635 (628–642)  |\n",
    "| Maze       | all tasks  | 219 (86–353)   | 287 (117–457)  | 261 (159–363)  |\n",
    "| Jaco       | all tasks  | 39 (29–50)     | 33 (24–42)     | 34 (18–51)     |\n",
    "| All        | all tasks  | 361            | **381**        | **381**        |"
   ]
  },
  {
   "cell_type": "markdown",
   "id": "c548db24",
   "metadata": {
    "slideshow": {
     "slide_type": "slide"
    }
   },
   "source": [
    "# Discussion and Limitations\n",
    "\n",
    "**Performance discrepancy between conservative variants.**\n",
    "\n",
    "**Computational overhead.**\n",
    "\n",
    "**Learning instability.**"
   ]
  },
  {
   "cell_type": "markdown",
   "id": "f079a340",
   "metadata": {
    "slideshow": {
     "slide_type": "subslide"
    }
   },
   "source": [
    "# Thanks for listening!"
   ]
  }
 ],
 "metadata": {
  "celltoolbar": "Slideshow",
  "kernelspec": {
   "display_name": "Python 3 (ipykernel)",
   "language": "python",
   "name": "python3"
  },
  "language_info": {
   "codemirror_mode": {
    "name": "ipython",
    "version": 3
   },
   "file_extension": ".py",
   "mimetype": "text/x-python",
   "name": "python",
   "nbconvert_exporter": "python",
   "pygments_lexer": "ipython3",
   "version": "3.9.7"
  }
 },
 "nbformat": 4,
 "nbformat_minor": 5
}
